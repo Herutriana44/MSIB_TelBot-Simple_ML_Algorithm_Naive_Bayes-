{
 "cells": [
  {
   "cell_type": "markdown",
   "metadata": {
    "id": "iOkzWPQZ2o95"
   },
   "source": [
    "## Loading data and preliminary analysis"
   ]
  },
  {
   "cell_type": "code",
   "execution_count": 4,
   "metadata": {
    "id": "HOYdKHMxxo-G"
   },
   "outputs": [],
   "source": [
    "import re\n",
    "import random\n",
    "import pandas as pd\n",
    "import numpy as np\n",
    "pd.set_option('mode.chained_assignment', None)"
   ]
  },
  {
   "cell_type": "code",
   "execution_count": 5,
   "metadata": {
    "id": "AWkNB_E2xo7N"
   },
   "outputs": [],
   "source": [
    "data=pd.read_csv(\"info.csv\",nrows=20)"
   ]
  },
  {
   "cell_type": "code",
   "execution_count": 6,
   "metadata": {
    "colab": {
     "base_uri": "https://localhost:8080/",
     "height": 203
    },
    "id": "Lv-3MPz-HGUA",
    "outputId": "eaeac595-e920-4273-e24e-d9814042a74f"
   },
   "outputs": [
    {
     "data": {
      "text/html": [
       "<div>\n",
       "<style scoped>\n",
       "    .dataframe tbody tr th:only-of-type {\n",
       "        vertical-align: middle;\n",
       "    }\n",
       "\n",
       "    .dataframe tbody tr th {\n",
       "        vertical-align: top;\n",
       "    }\n",
       "\n",
       "    .dataframe thead th {\n",
       "        text-align: right;\n",
       "    }\n",
       "</style>\n",
       "<table border=\"1\" class=\"dataframe\">\n",
       "  <thead>\n",
       "    <tr style=\"text-align: right;\">\n",
       "      <th></th>\n",
       "      <th>No</th>\n",
       "      <th>Questions</th>\n",
       "      <th>Answers</th>\n",
       "    </tr>\n",
       "  </thead>\n",
       "  <tbody>\n",
       "    <tr>\n",
       "      <th>0</th>\n",
       "      <td>1</td>\n",
       "      <td>Apa itu MSIB?</td>\n",
       "      <td>Program Magang dan Studi Independen Bersertifi...</td>\n",
       "    </tr>\n",
       "    <tr>\n",
       "      <th>1</th>\n",
       "      <td>2</td>\n",
       "      <td>Apakah program Magang atau Studi Independen di...</td>\n",
       "      <td>Program Magang atau Studi Independen dapat dil...</td>\n",
       "    </tr>\n",
       "    <tr>\n",
       "      <th>2</th>\n",
       "      <td>3</td>\n",
       "      <td>Apa itu Magang?</td>\n",
       "      <td>Kegiatan dimana mahasiswa bekerja di organisas...</td>\n",
       "    </tr>\n",
       "    <tr>\n",
       "      <th>3</th>\n",
       "      <td>4</td>\n",
       "      <td>Apa kriteria Magang?</td>\n",
       "      <td>Berikut adalah kriteria Magang:\\n1. Mahasiswa ...</td>\n",
       "    </tr>\n",
       "    <tr>\n",
       "      <th>4</th>\n",
       "      <td>5</td>\n",
       "      <td>Apa itu Studi Independen?</td>\n",
       "      <td>Program pembelajaran non-gelar yang diselengga...</td>\n",
       "    </tr>\n",
       "  </tbody>\n",
       "</table>\n",
       "</div>"
      ],
      "text/plain": [
       "   No                                          Questions  \\\n",
       "0   1                                      Apa itu MSIB?   \n",
       "1   2  Apakah program Magang atau Studi Independen di...   \n",
       "2   3                                    Apa itu Magang?   \n",
       "3   4                               Apa kriteria Magang?   \n",
       "4   5                          Apa itu Studi Independen?   \n",
       "\n",
       "                                             Answers  \n",
       "0  Program Magang dan Studi Independen Bersertifi...  \n",
       "1  Program Magang atau Studi Independen dapat dil...  \n",
       "2  Kegiatan dimana mahasiswa bekerja di organisas...  \n",
       "3  Berikut adalah kriteria Magang:\\n1. Mahasiswa ...  \n",
       "4  Program pembelajaran non-gelar yang diselengga...  "
      ]
     },
     "execution_count": 6,
     "metadata": {},
     "output_type": "execute_result"
    }
   ],
   "source": [
    "data.head()"
   ]
  },
  {
   "cell_type": "code",
   "execution_count": 7,
   "metadata": {
    "id": "zkrA850QxovH"
   },
   "outputs": [],
   "source": [
    "# data preprocessing \n",
    "\n",
    "for i in range(data.shape[0]):\n",
    "  data['Answers'][i]=re.sub(r'\\n', ' ',data['Answers'][i])\n",
    "  data['Answers'][i]=re.sub('\\(', '',data['Answers'][i]) \n",
    "  data['Answers'][i]=re.sub(r'\\)', '',data['Answers'][i]) \n",
    "  data['Answers'][i]=re.sub(r',', '',data['Answers'][i]) \n",
    "  data['Answers'][i]=re.sub(r'-', '',data['Answers'][i])\n",
    "  data['Answers'][i]=re.sub(r'/', '',data['Answers'][i])  \n",
    "  data['Answers'][i]=re.sub(r'/', '',data['Answers'][i])"
   ]
  },
  {
   "cell_type": "code",
   "execution_count": 8,
   "metadata": {
    "id": "s0hDQnIg5NmU"
   },
   "outputs": [],
   "source": [
    "pairs=[]\n",
    "\n",
    "for i in range(data.shape[0]):\n",
    "  pairs.append(((data['Questions'][i]),data['Answers'][i]))"
   ]
  },
  {
   "cell_type": "code",
   "execution_count": 9,
   "metadata": {
    "colab": {
     "base_uri": "https://localhost:8080/"
    },
    "id": "2e6HSAiT5sGJ",
    "outputId": "20556148-c5da-48ec-d9ab-ba292eb7e700"
   },
   "outputs": [
    {
     "data": {
      "text/plain": [
       "[('Apa itu MSIB?',\n",
       "  'Program Magang dan Studi Independen Bersertifikat Kampus Merdeka memberikan kesempatan kepada mahasiswa untuk mengasah dan mendapatkan kemampuan pengetahuan dan sikap di dunia industri dengan cara bekerja dan belajar secara langsung dalam proyek atau permasalahan riil. Pengalaman belajar di luar perguruan tinggi selama lebih dari 16 minggu hingga 24 minggu dengan aktivitas pembelajaran yang terstruktur akan dikonversi ke SKS Mahasiswa'),\n",
       " ('Apakah program Magang atau Studi Independen dilaksanakan secara luring?',\n",
       "  'Program Magang atau Studi Independen dapat dilaksanakan secara luring daring atau hybrid. Hal tersebut menjadi pilihan masingmasing Mitra Industri.'),\n",
       " ('Apa itu Magang?',\n",
       "  'Kegiatan dimana mahasiswa bekerja di organisasi mitra sebagai trainee selama periode waktu terbatas'),\n",
       " ('Apa kriteria Magang?',\n",
       "  'Berikut adalah kriteria Magang: 1. Mahasiswa diberikan proyek riil yang memiliki nilai strategis bagi industri dan dikerjakan secara berkelompok lintas disiplin ilmu 2. Dalam menyelesaikan proyek diberikan pengetahuan melalui modul pembelajaran yang relevan dengan persoalan proyek dengan pendampingan mentor profesional 10 mahasiswa minimal didampingi 1 mentor 3. Dilakukan dalam periode 16 minggu hingga 24 minggu 4. Mahasiswa mendapatkan peluang untuk menjadi FTE Full Time Employee setelah perfomanya dinilai selama periode magang selain itu sertfikiasi keterampilan dari industri juga akan memberikan nilai yang tinggi bagi Mahasiswa'),\n",
       " ('Apa itu Studi Independen?',\n",
       "  'Program pembelajaran nongelar yang diselenggarakan oleh organisasi atau industri yang menyediakan pengetahuan dan keterampilan dengan tingkat relevansi tinggi di dunia kerja dan dunia usaha dalam bentuk kursus singkat short course kemah kerja bootcamp massive open online course MOOC dan lainnya yang dilanjutkan dengan kegiatan kolaborasi bersama dengan sesama peserta maupun personil organisasi mitra dalam suatu proyek atau studi kasus.'),\n",
       " ('Pengumpulan Surat Rekomendasi dan Surat Pernyataan Tanggung Jawab Mutlak ',\n",
       "  '1. Dilakukan di awal pendaftaran 2. Mahasiswa tidak dapat melamar sebelum menyelesaikan pengumpulan SR dan SPTJM klik tombol \"submit 3. Terdapat fitur simpan dokumen mahasiswa dapat mereviu dan merevisi dokumen yang diunggah sebelum submit. Setelah submit dokumen yang diunggah tidak dapat direvisi kembali.'),\n",
       " ('Kuota lamaran',\n",
       "  'Jumlah lamaran dibatasi maksimal 22 lamaran per mahasiswa'),\n",
       " ('Proses seleksi',\n",
       "  'Proses seleksi oleh mitra dilakukan bagi mahasiswa yang lolos seleksi berkas dan Tes Kebinekaan.'),\n",
       " ('Lini Masa',\n",
       "  '1. 18 April  7 Juni 2023 : Pendaftaran Mahasiswa 2. 8  18 Juni 2023 : Verifikasi dan validasi berkas mahasiswa 3. 21  23 Juni 2023 : Tes Kebinekaan 4. 1  30 Juli 2023 : Seleksi dan offering mahasiswa oleh mitra 5. Minggu ke2 Agustus 2023 : Pengumuman hasil seleksi 6. 14 Agustus 2023 : National Onboarding'),\n",
       " ('Syarat dan Ketentuan',\n",
       "  'Silahkan kunjungi link berikut untuk informasi tersebut : https:pusatinformasi.kampusmerdeka.kemdikbud.go.idhcenusarticles4417239114905SyaratKetentuanPendaftaranMahasiswaMagangStudiIndependenBersertifikatMSIB'),\n",
       " ('Template ',\n",
       "  '1. Surat Rekomendasi: http:ringkas.kemdikbud.go.idSrtRekomendasiMSIB5  2. SPTJM: http:ringkas.kemdikbud.go.idSPTJMMSIB5  3. Info lebih lanjut terkait dokumen pendaftaran dapat dicek di https:pusatinformasi.kampusmerdeka.kemdikbud.go.idhcenusarticles4417256435353KetentuanDokumenuntukPendaftaranMahasiswaMSIB'),\n",
       " ('Link daftar Magang',\n",
       "  'Silahkan kunjungi link berikut untuk informasi tersebut  : https:kampusmerdeka.kemdikbud.go.idprogrammagangbrowse'),\n",
       " ('Link daftar Studi Independen',\n",
       "  'Silahkan kunjungi link berikut untuk informasi tersebut  : https:kampusmerdeka.kemdikbud.go.idprogramstudiindependenbrowse'),\n",
       " ('Link tentang MSIB',\n",
       "  'Silahkan kunjungi link berikut untuk informasi tersebut  : https:pusatinformasi.kampusmerdeka.kemdikbud.go.idhcenussections6153673960217Mahasiswa'),\n",
       " ('Cara mendaftar program MSIB',\n",
       "  'Silahkan kunjungi link berikut untuk informasi tersebut  : https:pusatinformasi.kampusmerdeka.kemdikbud.go.idhcenusarticles4417215860633MencariKegiatandanMendaftarProgramMSIB'),\n",
       " ('Cara membuat akun Kampus Merdeka',\n",
       "  'Silahkan kunjungi link berikut untuk informasi tersebut  : https:pusatinformasi.kampusmerdeka.kemdikbud.go.idhcenusarticles4417199313561'),\n",
       " ('Cara merubah password akun',\n",
       "  'Silahkan kunjungi link berikut untuk informasi tersebut  : https:pusatinformasi.kampusmerdeka.kemdikbud.go.idhcenusarticles4417206493849CaraMengubahPasswordAkun'),\n",
       " ('Status Mahasiswa & Universitas untuk Program MSIB',\n",
       "  'Silahkan kunjungi link berikut untuk informasi tersebut  : https:pusatinformasi.kampusmerdeka.kemdikbud.go.idhcenusarticles4417244248345StatusMahasiswaUniversitasuntukProgramMSIB'),\n",
       " ('Ketentuan Dokumen untuk Pendaftaran Mahasiswa MSIB',\n",
       "  'Silahkan kunjungi link berikut untuk informasi tersebut  : https:pusatinformasi.kampusmerdeka.kemdikbud.go.idhcenusarticles4417256435353KetentuanDokumenuntukPendaftaranMahasiswaMSIB'),\n",
       " ('Cara mendapatkan surat rekomendasi Fasilkom',\n",
       "  'Cara mendapatkan surat rekomendasi fasilkom 1. Isi Form https:bit.lyRekomendasiMSIB5 2. Unduh Form Rekomendasi https:bit.lyunduhSR_MSIB5')]"
      ]
     },
     "execution_count": 9,
     "metadata": {},
     "output_type": "execute_result"
    }
   ],
   "source": [
    "pairs                                     # questions"
   ]
  },
  {
   "cell_type": "markdown",
   "metadata": {
    "id": "bFIMImgr25tw"
   },
   "source": [
    "## Data preprocessing "
   ]
  },
  {
   "cell_type": "code",
   "execution_count": 10,
   "metadata": {
    "id": "FPdw-Uwt60QW"
   },
   "outputs": [],
   "source": [
    "input_docs = []\n",
    "target_docs = []\n",
    "input_tokens = set()\n",
    "target_tokens = set()\n",
    "\n",
    "for line in pairs:\n",
    "\n",
    "  input_doc, target_doc = line[0], line[1]\n",
    "\n",
    "  # Appending each input sentence to input_docs\n",
    "  input_docs.append(input_doc)\n",
    "\n",
    "  # Splitting words from punctuation  \n",
    "  target_doc = \" \".join(re.findall(r\"[\\w']+|[^\\s\\w]\", target_doc))\n",
    "\n",
    "  # Redefine target_doc below and append it to target_docs\n",
    "  target_doc = '<START> ' + target_doc + ' <END>'\n",
    "\n",
    "  target_docs.append(target_doc)\n",
    "\n",
    "  for token in re.findall(r\"[\\w']+|[^\\s\\w]\", input_doc):\n",
    "    if token not in input_tokens:\n",
    "      input_tokens.add(token)\n",
    "  for token in target_doc.split():\n",
    "    if token not in target_tokens:\n",
    "      target_tokens.add(token)\n",
    "\n",
    "input_tokens = sorted(list(input_tokens))  # contains all words of input_docs\n",
    "target_tokens = sorted(list(target_tokens))\n",
    "num_encoder_tokens = len(input_tokens)\n",
    "num_decoder_tokens = len(target_tokens)"
   ]
  },
  {
   "cell_type": "code",
   "execution_count": 11,
   "metadata": {
    "colab": {
     "base_uri": "https://localhost:8080/"
    },
    "id": "-BgbOOFBDXRQ",
    "outputId": "60bbba79-0099-4092-a15b-67b5acbed793"
   },
   "outputs": [
    {
     "data": {
      "text/plain": [
       "['Apa itu MSIB?',\n",
       " 'Apakah program Magang atau Studi Independen dilaksanakan secara luring?',\n",
       " 'Apa itu Magang?',\n",
       " 'Apa kriteria Magang?',\n",
       " 'Apa itu Studi Independen?',\n",
       " 'Pengumpulan Surat Rekomendasi dan Surat Pernyataan Tanggung Jawab Mutlak ',\n",
       " 'Kuota lamaran',\n",
       " 'Proses seleksi',\n",
       " 'Lini Masa',\n",
       " 'Syarat dan Ketentuan',\n",
       " 'Template ',\n",
       " 'Link daftar Magang',\n",
       " 'Link daftar Studi Independen',\n",
       " 'Link tentang MSIB',\n",
       " 'Cara mendaftar program MSIB',\n",
       " 'Cara membuat akun Kampus Merdeka',\n",
       " 'Cara merubah password akun',\n",
       " 'Status Mahasiswa & Universitas untuk Program MSIB',\n",
       " 'Ketentuan Dokumen untuk Pendaftaran Mahasiswa MSIB',\n",
       " 'Cara mendapatkan surat rekomendasi Fasilkom']"
      ]
     },
     "execution_count": 11,
     "metadata": {},
     "output_type": "execute_result"
    }
   ],
   "source": [
    "input_docs"
   ]
  },
  {
   "cell_type": "code",
   "execution_count": 12,
   "metadata": {
    "colab": {
     "base_uri": "https://localhost:8080/"
    },
    "id": "1gzh0qjP60LN",
    "outputId": "ad09f47c-566d-4024-e0e7-b9aca3a029ca"
   },
   "outputs": [
    {
     "data": {
      "text/plain": [
       "['<START> Program Magang dan Studi Independen Bersertifikat Kampus Merdeka memberikan kesempatan kepada mahasiswa untuk mengasah dan mendapatkan kemampuan pengetahuan dan sikap di dunia industri dengan cara bekerja dan belajar secara langsung dalam proyek atau permasalahan riil . Pengalaman belajar di luar perguruan tinggi selama lebih dari 16 minggu hingga 24 minggu dengan aktivitas pembelajaran yang terstruktur akan dikonversi ke SKS Mahasiswa <END>',\n",
       " '<START> Program Magang atau Studi Independen dapat dilaksanakan secara luring daring atau hybrid . Hal tersebut menjadi pilihan masingmasing Mitra Industri . <END>',\n",
       " '<START> Kegiatan dimana mahasiswa bekerja di organisasi mitra sebagai trainee selama periode waktu terbatas <END>',\n",
       " '<START> Berikut adalah kriteria Magang : 1 . Mahasiswa diberikan proyek riil yang memiliki nilai strategis bagi industri dan dikerjakan secara berkelompok lintas disiplin ilmu 2 . Dalam menyelesaikan proyek diberikan pengetahuan melalui modul pembelajaran yang relevan dengan persoalan proyek dengan pendampingan mentor profesional 10 mahasiswa minimal didampingi 1 mentor 3 . Dilakukan dalam periode 16 minggu hingga 24 minggu 4 . Mahasiswa mendapatkan peluang untuk menjadi FTE Full Time Employee setelah perfomanya dinilai selama periode magang selain itu sertfikiasi keterampilan dari industri juga akan memberikan nilai yang tinggi bagi Mahasiswa <END>',\n",
       " '<START> Program pembelajaran nongelar yang diselenggarakan oleh organisasi atau industri yang menyediakan pengetahuan dan keterampilan dengan tingkat relevansi tinggi di dunia kerja dan dunia usaha dalam bentuk kursus singkat short course kemah kerja bootcamp massive open online course MOOC dan lainnya yang dilanjutkan dengan kegiatan kolaborasi bersama dengan sesama peserta maupun personil organisasi mitra dalam suatu proyek atau studi kasus . <END>',\n",
       " '<START> 1 . Dilakukan di awal pendaftaran 2 . Mahasiswa tidak dapat melamar sebelum menyelesaikan pengumpulan SR dan SPTJM klik tombol \" submit 3 . Terdapat fitur simpan dokumen mahasiswa dapat mereviu dan merevisi dokumen yang diunggah sebelum submit . Setelah submit dokumen yang diunggah tidak dapat direvisi kembali . <END>',\n",
       " '<START> Jumlah lamaran dibatasi maksimal 22 lamaran per mahasiswa <END>',\n",
       " '<START> Proses seleksi oleh mitra dilakukan bagi mahasiswa yang lolos seleksi berkas dan Tes Kebinekaan . <END>',\n",
       " '<START> 1 . 18 April 7 Juni 2023 : Pendaftaran Mahasiswa 2 . 8 18 Juni 2023 : Verifikasi dan validasi berkas mahasiswa 3 . 21 23 Juni 2023 : Tes Kebinekaan 4 . 1 30 Juli 2023 : Seleksi dan offering mahasiswa oleh mitra 5 . Minggu ke2 Agustus 2023 : Pengumuman hasil seleksi 6 . 14 Agustus 2023 : National Onboarding <END>',\n",
       " '<START> Silahkan kunjungi link berikut untuk informasi tersebut : https : pusatinformasi . kampusmerdeka . kemdikbud . go . idhcenusarticles4417239114905SyaratKetentuanPendaftaranMahasiswaMagangStudiIndependenBersertifikatMSIB <END>',\n",
       " '<START> 1 . Surat Rekomendasi : http : ringkas . kemdikbud . go . idSrtRekomendasiMSIB5 2 . SPTJM : http : ringkas . kemdikbud . go . idSPTJMMSIB5 3 . Info lebih lanjut terkait dokumen pendaftaran dapat dicek di https : pusatinformasi . kampusmerdeka . kemdikbud . go . idhcenusarticles4417256435353KetentuanDokumenuntukPendaftaranMahasiswaMSIB <END>',\n",
       " '<START> Silahkan kunjungi link berikut untuk informasi tersebut : https : kampusmerdeka . kemdikbud . go . idprogrammagangbrowse <END>',\n",
       " '<START> Silahkan kunjungi link berikut untuk informasi tersebut : https : kampusmerdeka . kemdikbud . go . idprogramstudiindependenbrowse <END>',\n",
       " '<START> Silahkan kunjungi link berikut untuk informasi tersebut : https : pusatinformasi . kampusmerdeka . kemdikbud . go . idhcenussections6153673960217Mahasiswa <END>',\n",
       " '<START> Silahkan kunjungi link berikut untuk informasi tersebut : https : pusatinformasi . kampusmerdeka . kemdikbud . go . idhcenusarticles4417215860633MencariKegiatandanMendaftarProgramMSIB <END>',\n",
       " '<START> Silahkan kunjungi link berikut untuk informasi tersebut : https : pusatinformasi . kampusmerdeka . kemdikbud . go . idhcenusarticles4417199313561 <END>',\n",
       " '<START> Silahkan kunjungi link berikut untuk informasi tersebut : https : pusatinformasi . kampusmerdeka . kemdikbud . go . idhcenusarticles4417206493849CaraMengubahPasswordAkun <END>',\n",
       " '<START> Silahkan kunjungi link berikut untuk informasi tersebut : https : pusatinformasi . kampusmerdeka . kemdikbud . go . idhcenusarticles4417244248345StatusMahasiswaUniversitasuntukProgramMSIB <END>',\n",
       " '<START> Silahkan kunjungi link berikut untuk informasi tersebut : https : pusatinformasi . kampusmerdeka . kemdikbud . go . idhcenusarticles4417256435353KetentuanDokumenuntukPendaftaranMahasiswaMSIB <END>',\n",
       " '<START> Cara mendapatkan surat rekomendasi fasilkom 1 . Isi Form https : bit . lyRekomendasiMSIB5 2 . Unduh Form Rekomendasi https : bit . lyunduhSR_MSIB5 <END>']"
      ]
     },
     "execution_count": 12,
     "metadata": {},
     "output_type": "execute_result"
    }
   ],
   "source": [
    "target_docs"
   ]
  },
  {
   "cell_type": "code",
   "execution_count": 13,
   "metadata": {
    "id": "NetKOKUa6ucB"
   },
   "outputs": [],
   "source": [
    "input_features_dict = dict([(token, i) for i, token in enumerate(input_tokens)])\n",
    "target_features_dict = dict([(token, i) for i, token in enumerate(target_tokens)])\n",
    "\n",
    "reverse_input_features_dict = dict((i, token) for token, i in input_features_dict.items())\n",
    "reverse_target_features_dict = dict((i, token) for token, i in target_features_dict.items())"
   ]
  },
  {
   "cell_type": "code",
   "execution_count": 14,
   "metadata": {
    "colab": {
     "base_uri": "https://localhost:8080/"
    },
    "id": "2HjeF1rV5r1o",
    "outputId": "f485be5a-5965-4907-938f-3bc0fd1356c4"
   },
   "outputs": [
    {
     "data": {
      "text/plain": [
       "{'&': 0,\n",
       " '?': 1,\n",
       " 'Apa': 2,\n",
       " 'Apakah': 3,\n",
       " 'Cara': 4,\n",
       " 'Dokumen': 5,\n",
       " 'Fasilkom': 6,\n",
       " 'Independen': 7,\n",
       " 'Jawab': 8,\n",
       " 'Kampus': 9,\n",
       " 'Ketentuan': 10,\n",
       " 'Kuota': 11,\n",
       " 'Lini': 12,\n",
       " 'Link': 13,\n",
       " 'MSIB': 14,\n",
       " 'Magang': 15,\n",
       " 'Mahasiswa': 16,\n",
       " 'Masa': 17,\n",
       " 'Merdeka': 18,\n",
       " 'Mutlak': 19,\n",
       " 'Pendaftaran': 20,\n",
       " 'Pengumpulan': 21,\n",
       " 'Pernyataan': 22,\n",
       " 'Program': 23,\n",
       " 'Proses': 24,\n",
       " 'Rekomendasi': 25,\n",
       " 'Status': 26,\n",
       " 'Studi': 27,\n",
       " 'Surat': 28,\n",
       " 'Syarat': 29,\n",
       " 'Tanggung': 30,\n",
       " 'Template': 31,\n",
       " 'Universitas': 32,\n",
       " 'akun': 33,\n",
       " 'atau': 34,\n",
       " 'daftar': 35,\n",
       " 'dan': 36,\n",
       " 'dilaksanakan': 37,\n",
       " 'itu': 38,\n",
       " 'kriteria': 39,\n",
       " 'lamaran': 40,\n",
       " 'luring': 41,\n",
       " 'membuat': 42,\n",
       " 'mendaftar': 43,\n",
       " 'mendapatkan': 44,\n",
       " 'merubah': 45,\n",
       " 'password': 46,\n",
       " 'program': 47,\n",
       " 'rekomendasi': 48,\n",
       " 'secara': 49,\n",
       " 'seleksi': 50,\n",
       " 'surat': 51,\n",
       " 'tentang': 52,\n",
       " 'untuk': 53}"
      ]
     },
     "execution_count": 14,
     "metadata": {},
     "output_type": "execute_result"
    }
   ],
   "source": [
    "input_features_dict"
   ]
  },
  {
   "cell_type": "markdown",
   "metadata": {
    "id": "f1xvXlXR3Rjo"
   },
   "source": [
    "## Encoder - Decoder model"
   ]
  },
  {
   "cell_type": "code",
   "execution_count": 15,
   "metadata": {
    "id": "j4SCSarcDJm3"
   },
   "outputs": [],
   "source": [
    "max_encoder_seq_length = max([len(re.findall(r\"[\\w']+|[^\\s\\w]\", input_doc)) for input_doc in input_docs])\n",
    "max_decoder_seq_length = max([len(re.findall(r\"[\\w']+|[^\\s\\w]\", target_doc)) for target_doc in target_docs])\n",
    "\n",
    "encoder_input_data = np.zeros(\n",
    "    (len(input_docs), max_encoder_seq_length, num_encoder_tokens),\n",
    "    dtype='float32')\n",
    "decoder_input_data = np.zeros(\n",
    "    (len(input_docs), max_decoder_seq_length, num_decoder_tokens),\n",
    "    dtype='float32')\n",
    "decoder_target_data = np.zeros(\n",
    "    (len(input_docs), max_decoder_seq_length, num_decoder_tokens),\n",
    "    dtype='float32')\n",
    "for line, (input_doc, target_doc) in enumerate(zip(input_docs, target_docs)):\n",
    "    for timestep, token in enumerate(re.findall(r\"[\\w']+|[^\\s\\w]\", input_doc)):\n",
    "        #Assign 1. for the current line, timestep, & word in encoder_input_data\n",
    "        encoder_input_data[line, timestep, input_features_dict[token]] = 1.\n",
    "    \n",
    "    for timestep, token in enumerate(target_doc.split()):\n",
    "        decoder_input_data[line, timestep, target_features_dict[token]] = 1.\n",
    "        if timestep > 0:\n",
    "            decoder_target_data[line, timestep - 1, target_features_dict[token]] = 1."
   ]
  },
  {
   "cell_type": "code",
   "execution_count": 16,
   "metadata": {
    "colab": {
     "base_uri": "https://localhost:8080/"
    },
    "id": "7_TCl5B2c9Vq",
    "outputId": "029afdc1-421e-497d-a92b-fe361d1ab15c"
   },
   "outputs": [
    {
     "data": {
      "text/plain": [
       "array([[[0., 0., 1., ..., 0., 0., 0.],\n",
       "        [0., 0., 0., ..., 0., 0., 0.],\n",
       "        [0., 0., 0., ..., 0., 0., 0.],\n",
       "        ...,\n",
       "        [0., 0., 0., ..., 0., 0., 0.],\n",
       "        [0., 0., 0., ..., 0., 0., 0.],\n",
       "        [0., 0., 0., ..., 0., 0., 0.]],\n",
       "\n",
       "       [[0., 0., 0., ..., 0., 0., 0.],\n",
       "        [0., 0., 0., ..., 0., 0., 0.],\n",
       "        [0., 0., 0., ..., 0., 0., 0.],\n",
       "        ...,\n",
       "        [0., 0., 0., ..., 0., 0., 0.],\n",
       "        [0., 0., 0., ..., 0., 0., 0.],\n",
       "        [0., 1., 0., ..., 0., 0., 0.]],\n",
       "\n",
       "       [[0., 0., 1., ..., 0., 0., 0.],\n",
       "        [0., 0., 0., ..., 0., 0., 0.],\n",
       "        [0., 0., 0., ..., 0., 0., 0.],\n",
       "        ...,\n",
       "        [0., 0., 0., ..., 0., 0., 0.],\n",
       "        [0., 0., 0., ..., 0., 0., 0.],\n",
       "        [0., 0., 0., ..., 0., 0., 0.]],\n",
       "\n",
       "       ...,\n",
       "\n",
       "       [[0., 0., 0., ..., 0., 0., 0.],\n",
       "        [0., 0., 0., ..., 0., 0., 0.],\n",
       "        [1., 0., 0., ..., 0., 0., 0.],\n",
       "        ...,\n",
       "        [0., 0., 0., ..., 0., 0., 0.],\n",
       "        [0., 0., 0., ..., 0., 0., 0.],\n",
       "        [0., 0., 0., ..., 0., 0., 0.]],\n",
       "\n",
       "       [[0., 0., 0., ..., 0., 0., 0.],\n",
       "        [0., 0., 0., ..., 0., 0., 0.],\n",
       "        [0., 0., 0., ..., 0., 0., 1.],\n",
       "        ...,\n",
       "        [0., 0., 0., ..., 0., 0., 0.],\n",
       "        [0., 0., 0., ..., 0., 0., 0.],\n",
       "        [0., 0., 0., ..., 0., 0., 0.]],\n",
       "\n",
       "       [[0., 0., 0., ..., 0., 0., 0.],\n",
       "        [0., 0., 0., ..., 0., 0., 0.],\n",
       "        [0., 0., 0., ..., 1., 0., 0.],\n",
       "        ...,\n",
       "        [0., 0., 0., ..., 0., 0., 0.],\n",
       "        [0., 0., 0., ..., 0., 0., 0.],\n",
       "        [0., 0., 0., ..., 0., 0., 0.]]], dtype=float32)"
      ]
     },
     "execution_count": 16,
     "metadata": {},
     "output_type": "execute_result"
    }
   ],
   "source": [
    "encoder_input_data"
   ]
  },
  {
   "cell_type": "code",
   "execution_count": 17,
   "metadata": {
    "colab": {
     "base_uri": "https://localhost:8080/"
    },
    "id": "SLXrUXkxOehp",
    "outputId": "738aba50-0667-45dd-8f4d-c3632857f228"
   },
   "outputs": [
    {
     "data": {
      "text/plain": [
       "array([[[0., 0., 0., ..., 0., 0., 0.],\n",
       "        [0., 0., 0., ..., 0., 0., 0.],\n",
       "        [0., 0., 0., ..., 0., 0., 0.],\n",
       "        ...,\n",
       "        [0., 0., 0., ..., 0., 0., 0.],\n",
       "        [0., 0., 0., ..., 0., 0., 0.],\n",
       "        [0., 0., 0., ..., 0., 0., 0.]],\n",
       "\n",
       "       [[0., 0., 0., ..., 0., 0., 0.],\n",
       "        [0., 0., 0., ..., 0., 0., 0.],\n",
       "        [0., 0., 0., ..., 0., 0., 0.],\n",
       "        ...,\n",
       "        [0., 0., 0., ..., 0., 0., 0.],\n",
       "        [0., 0., 0., ..., 0., 0., 0.],\n",
       "        [0., 0., 0., ..., 0., 0., 0.]],\n",
       "\n",
       "       [[0., 0., 0., ..., 0., 0., 0.],\n",
       "        [0., 0., 0., ..., 0., 0., 0.],\n",
       "        [0., 0., 0., ..., 0., 0., 0.],\n",
       "        ...,\n",
       "        [0., 0., 0., ..., 0., 0., 0.],\n",
       "        [0., 0., 0., ..., 0., 0., 0.],\n",
       "        [0., 0., 0., ..., 0., 0., 0.]],\n",
       "\n",
       "       ...,\n",
       "\n",
       "       [[0., 0., 0., ..., 0., 0., 0.],\n",
       "        [0., 0., 0., ..., 0., 0., 0.],\n",
       "        [0., 0., 0., ..., 0., 0., 0.],\n",
       "        ...,\n",
       "        [0., 0., 0., ..., 0., 0., 0.],\n",
       "        [0., 0., 0., ..., 0., 0., 0.],\n",
       "        [0., 0., 0., ..., 0., 0., 0.]],\n",
       "\n",
       "       [[0., 0., 0., ..., 0., 0., 0.],\n",
       "        [0., 0., 0., ..., 0., 0., 0.],\n",
       "        [0., 0., 0., ..., 0., 0., 0.],\n",
       "        ...,\n",
       "        [0., 0., 0., ..., 0., 0., 0.],\n",
       "        [0., 0., 0., ..., 0., 0., 0.],\n",
       "        [0., 0., 0., ..., 0., 0., 0.]],\n",
       "\n",
       "       [[0., 0., 0., ..., 0., 0., 0.],\n",
       "        [0., 0., 0., ..., 0., 0., 0.],\n",
       "        [0., 0., 0., ..., 0., 0., 0.],\n",
       "        ...,\n",
       "        [0., 0., 0., ..., 0., 0., 0.],\n",
       "        [0., 0., 0., ..., 0., 0., 0.],\n",
       "        [0., 0., 0., ..., 0., 0., 0.]]], dtype=float32)"
      ]
     },
     "execution_count": 17,
     "metadata": {},
     "output_type": "execute_result"
    }
   ],
   "source": [
    "decoder_target_data"
   ]
  },
  {
   "cell_type": "markdown",
   "metadata": {
    "id": "6M74GLqQ32ET"
   },
   "source": [
    "## Training"
   ]
  },
  {
   "cell_type": "code",
   "execution_count": 3,
   "metadata": {
    "id": "ADU7bfIXOefe"
   },
   "outputs": [
    {
     "ename": "NameError",
     "evalue": "name 'num_encoder_tokens' is not defined",
     "output_type": "error",
     "traceback": [
      "\u001b[1;31m---------------------------------------------------------------------------\u001b[0m",
      "\u001b[1;31mNameError\u001b[0m                                 Traceback (most recent call last)",
      "Cell \u001b[1;32mIn[3], line 9\u001b[0m\n\u001b[0;32m      6\u001b[0m epochs \u001b[38;5;241m=\u001b[39m \u001b[38;5;241m500\u001b[39m \n\u001b[0;32m      8\u001b[0m \u001b[38;5;66;03m#Encoder\u001b[39;00m\n\u001b[1;32m----> 9\u001b[0m encoder_inputs \u001b[38;5;241m=\u001b[39m Input(shape\u001b[38;5;241m=\u001b[39m(\u001b[38;5;28;01mNone\u001b[39;00m, \u001b[43mnum_encoder_tokens\u001b[49m))\n\u001b[0;32m     10\u001b[0m encoder_lstm \u001b[38;5;241m=\u001b[39m LSTM(dimensionality, return_state\u001b[38;5;241m=\u001b[39m\u001b[38;5;28;01mTrue\u001b[39;00m)\n\u001b[0;32m     11\u001b[0m encoder_outputs, state_hidden, state_cell \u001b[38;5;241m=\u001b[39m encoder_lstm(encoder_inputs)\n",
      "\u001b[1;31mNameError\u001b[0m: name 'num_encoder_tokens' is not defined"
     ]
    }
   ],
   "source": [
    "from tensorflow import keras\n",
    "from keras.layers import Input, LSTM, Dense\n",
    "from keras.models import Model  \n",
    "dimensionality = 256 # Dimensionality \n",
    "batch_size = 10   # The batch size and number of epochs\n",
    "epochs = 500 \n",
    "\n",
    "#Encoder\n",
    "encoder_inputs = Input(shape=(None, num_encoder_tokens))\n",
    "encoder_lstm = LSTM(dimensionality, return_state=True)\n",
    "encoder_outputs, state_hidden, state_cell = encoder_lstm(encoder_inputs)\n",
    "encoder_states = [state_hidden, state_cell]\n",
    "\n",
    "#Decoder\n",
    "decoder_inputs = Input(shape=(None, num_decoder_tokens))\n",
    "decoder_lstm = LSTM(dimensionality, return_sequences=True, return_state=True)\n",
    "decoder_outputs, decoder_state_hidden, decoder_state_cell = decoder_lstm(decoder_inputs, initial_state=encoder_states)\n",
    "decoder_dense = Dense(num_decoder_tokens, activation='softmax')\n",
    "decoder_outputs = decoder_dense(decoder_outputs)"
   ]
  },
  {
   "cell_type": "code",
   "execution_count": null,
   "metadata": {
    "id": "tA1W1_-HOecW"
   },
   "outputs": [],
   "source": [
    "training_model = Model([encoder_inputs, decoder_inputs], decoder_outputs) # Compiling"
   ]
  },
  {
   "cell_type": "code",
   "execution_count": 20,
   "metadata": {
    "colab": {
     "base_uri": "https://localhost:8080/"
    },
    "id": "j9EEk4_KLLy2",
    "outputId": "e7348b85-4be2-4e3d-dfe1-791b762214c0"
   },
   "outputs": [
    {
     "name": "stdout",
     "output_type": "stream",
     "text": [
      "Model: \"model\"\n",
      "__________________________________________________________________________________________________\n",
      " Layer (type)                   Output Shape         Param #     Connected to                     \n",
      "==================================================================================================\n",
      " input_1 (InputLayer)           [(None, None, 54)]   0           []                               \n",
      "                                                                                                  \n",
      " input_2 (InputLayer)           [(None, None, 251)]  0           []                               \n",
      "                                                                                                  \n",
      " lstm (LSTM)                    [(None, 256),        318464      ['input_1[0][0]']                \n",
      "                                 (None, 256),                                                     \n",
      "                                 (None, 256)]                                                     \n",
      "                                                                                                  \n",
      " lstm_1 (LSTM)                  [(None, None, 256),  520192      ['input_2[0][0]',                \n",
      "                                 (None, 256),                     'lstm[0][1]',                   \n",
      "                                 (None, 256)]                     'lstm[0][2]']                   \n",
      "                                                                                                  \n",
      " dense (Dense)                  (None, None, 251)    64507       ['lstm_1[0][0]']                 \n",
      "                                                                                                  \n",
      "==================================================================================================\n",
      "Total params: 903,163\n",
      "Trainable params: 903,163\n",
      "Non-trainable params: 0\n",
      "__________________________________________________________________________________________________\n"
     ]
    }
   ],
   "source": [
    "training_model.summary()"
   ]
  },
  {
   "cell_type": "code",
   "execution_count": 21,
   "metadata": {
    "colab": {
     "base_uri": "https://localhost:8080/",
     "height": 422
    },
    "id": "n9HeMTwusJ-Y",
    "outputId": "af3f2187-529f-43a7-abf3-57ca78dd3271"
   },
   "outputs": [
    {
     "data": {
      "image/png": "[encoded data removed]",
      "text/plain": [
       "<IPython.core.display.Image object>"
      ]
     },
     "execution_count": 21,
     "metadata": {},
     "output_type": "execute_result"
    }
   ],
   "source": [
    "from keras.utils.vis_utils import plot_model\n",
    "plot_model(training_model, to_file='model_plot.png', show_shapes=True, show_layer_names=True)   # plot model"
   ]
  },
  {
   "cell_type": "code",
   "execution_count": 1,
   "metadata": {
    "colab": {
     "base_uri": "https://localhost:8080/"
    },
    "id": "SzwmitzgJ4zj",
    "outputId": "94589bfb-ee56-4b4c-8ba7-f61628c3cb24"
   },
   "outputs": [
    {
     "ename": "NameError",
     "evalue": "name 'training_model' is not defined",
     "output_type": "error",
     "traceback": [
      "\u001b[1;31m---------------------------------------------------------------------------\u001b[0m",
      "\u001b[1;31mNameError\u001b[0m                                 Traceback (most recent call last)",
      "Cell \u001b[1;32mIn[1], line 1\u001b[0m\n\u001b[1;32m----> 1\u001b[0m \u001b[43mtraining_model\u001b[49m\u001b[38;5;241m.\u001b[39mcompile(optimizer\u001b[38;5;241m=\u001b[39m\u001b[38;5;124m'\u001b[39m\u001b[38;5;124mrmsprop\u001b[39m\u001b[38;5;124m'\u001b[39m, loss\u001b[38;5;241m=\u001b[39m\u001b[38;5;124m'\u001b[39m\u001b[38;5;124mcategorical_crossentropy\u001b[39m\u001b[38;5;124m'\u001b[39m, metrics\u001b[38;5;241m=\u001b[39m[\u001b[38;5;124m'\u001b[39m\u001b[38;5;124maccuracy\u001b[39m\u001b[38;5;124m'\u001b[39m], sample_weight_mode\u001b[38;5;241m=\u001b[39m\u001b[38;5;124m'\u001b[39m\u001b[38;5;124mtemporal\u001b[39m\u001b[38;5;124m'\u001b[39m)\u001b[38;5;66;03m#Training\u001b[39;00m\n\u001b[0;32m      2\u001b[0m history1\u001b[38;5;241m=\u001b[39mtraining_model\u001b[38;5;241m.\u001b[39mfit([encoder_input_data, decoder_input_data], decoder_target_data, batch_size \u001b[38;5;241m=\u001b[39m batch_size, epochs \u001b[38;5;241m=\u001b[39m epochs, validation_split \u001b[38;5;241m=\u001b[39m \u001b[38;5;241m0.2\u001b[39m)\n\u001b[0;32m      3\u001b[0m training_model\u001b[38;5;241m.\u001b[39msave(\u001b[38;5;124m'\u001b[39m\u001b[38;5;124mtraining_model.h5\u001b[39m\u001b[38;5;124m'\u001b[39m)\n",
      "\u001b[1;31mNameError\u001b[0m: name 'training_model' is not defined"
     ]
    }
   ],
   "source": [
    "training_model.compile(optimizer='rmsprop', loss='categorical_crossentropy', metrics=['accuracy'], sample_weight_mode='temporal')#Training\n",
    "history1=training_model.fit([encoder_input_data, decoder_input_data], decoder_target_data, batch_size = batch_size, epochs = epochs, validation_split = 0.2)\n",
    "training_model.save('training_model.h5')"
   ]
  },
  {
   "cell_type": "code",
   "execution_count": null,
   "metadata": {
    "colab": {
     "base_uri": "https://localhost:8080/",
     "height": 513
    },
    "id": "uZxR-20DvbVK",
    "outputId": "e564486f-1105-48c1-d2c0-b2c213d8b0c6"
   },
   "outputs": [],
   "source": [
    "import matplotlib.pyplot as plt\n",
    "\n",
    "acc = history1.history['accuracy']\n",
    "val_acc = history1.history['val_accuracy']\n",
    "loss=history1.history['loss']\n",
    "val_loss=history1.history['val_loss']\n",
    "\n",
    "plt.figure(figsize=(16,8))\n",
    "plt.subplot(1, 2, 1)\n",
    "plt.plot(acc, label='Training Accuracy')\n",
    "plt.plot(val_acc, label='Validation Accuracy')\n",
    "plt.legend(loc='lower right')\n",
    "plt.title('Training and Validation Accuracy')\n",
    "plt.xlabel(\"epochs\")\n",
    "plt.ylabel(\"accuracy\")\n",
    "\n",
    "plt.subplot(1, 2, 2)\n",
    "plt.plot(loss, label='Training Loss')\n",
    "plt.plot(val_loss, label='Validation Loss')\n",
    "plt.legend(loc='upper right')\n",
    "plt.title('Training and Validation Loss')\n",
    "plt.xlabel(\"epochs\")\n",
    "plt.ylabel(\"loss\")\n",
    "plt.show()"
   ]
  },
  {
   "cell_type": "markdown",
   "metadata": {
    "id": "uVjdY1_syVNo"
   },
   "source": [
    "## Predictions"
   ]
  },
  {
   "cell_type": "code",
   "execution_count": null,
   "metadata": {
    "id": "S-BO7-WLPW9i"
   },
   "outputs": [],
   "source": [
    "from keras.models import load_model\n",
    "training_model = load_model('training_model.h5')\n",
    "encoder_inputs = training_model.input[0]\n",
    "encoder_outputs, state_h_enc, state_c_enc = training_model.layers[2].output\n",
    "encoder_states = [state_h_enc, state_c_enc]\n",
    "encoder_model = Model(encoder_inputs, encoder_states)"
   ]
  },
  {
   "cell_type": "code",
   "execution_count": null,
   "metadata": {
    "id": "2qYOVJPCPW5-"
   },
   "outputs": [],
   "source": [
    "latent_dim = 256\n",
    "decoder_state_input_hidden = Input(shape=(latent_dim,))\n",
    "decoder_state_input_cell = Input(shape=(latent_dim,))\n",
    "decoder_states_inputs = [decoder_state_input_hidden, decoder_state_input_cell]"
   ]
  },
  {
   "cell_type": "code",
   "execution_count": null,
   "metadata": {
    "id": "K7rEX_--PW3a"
   },
   "outputs": [],
   "source": [
    "decoder_outputs, state_hidden, state_cell = decoder_lstm(decoder_inputs, initial_state=decoder_states_inputs)\n",
    "decoder_states = [state_hidden, state_cell]\n",
    "decoder_outputs = decoder_dense(decoder_outputs)"
   ]
  },
  {
   "cell_type": "code",
   "execution_count": null,
   "metadata": {
    "id": "iOYDxa10OeZ6"
   },
   "outputs": [],
   "source": [
    "decoder_model = Model([decoder_inputs] + decoder_states_inputs, [decoder_outputs] + decoder_states)"
   ]
  },
  {
   "cell_type": "code",
   "execution_count": null,
   "metadata": {
    "id": "OGLxFzOXOeW3"
   },
   "outputs": [],
   "source": [
    "from keras.models import load_model\n",
    "training_model = load_model('training_model.h5')\n",
    "encoder_inputs = training_model.input[0]\n",
    "encoder_outputs, state_h_enc, state_c_enc = training_model.layers[2].output\n",
    "encoder_states = [state_h_enc, state_c_enc]\n",
    "encoder_model = Model(encoder_inputs, encoder_states)\n",
    "\n",
    "latent_dim = 256\n",
    "decoder_state_input_hidden = Input(shape=(latent_dim,))\n",
    "decoder_state_input_cell = Input(shape=(latent_dim,))\n",
    "decoder_states_inputs = [decoder_state_input_hidden, decoder_state_input_cell]\n",
    "decoder_outputs, state_hidden, state_cell = decoder_lstm(decoder_inputs, initial_state=decoder_states_inputs)\n",
    "decoder_states = [state_hidden, state_cell]\n",
    "decoder_outputs = decoder_dense(decoder_outputs)\n",
    "decoder_model = Model([decoder_inputs] + decoder_states_inputs, [decoder_outputs] + decoder_states)\n",
    "\n",
    "def decode_response(test_input):\n",
    "    #Getting the output states to pass into the decoder\n",
    "    states_value = encoder_model.predict(test_input)\n",
    "    \n",
    "    #Generating empty target sequence of length 1\n",
    "    target_seq = np.zeros((1, 1, num_decoder_tokens))\n",
    "    \n",
    "    #Setting the first token of target sequence with the start token\n",
    "    target_seq[0, 0, target_features_dict['<START>']] = 1.\n",
    "    \n",
    "    #A variable to store our response word by word\n",
    "    decoded_sentence = ''\n",
    "    \n",
    "    stop_condition = False\n",
    "    while not stop_condition:\n",
    "          #Predicting output tokens with probabilities and states\n",
    "          output_tokens, hidden_state, cell_state = decoder_model.predict([target_seq] + states_value)\n",
    "          \n",
    "          #Choosing the one with highest probability\n",
    "          sampled_token_index = np.argmax(output_tokens[0, -1, :])\n",
    "          sampled_token = reverse_target_features_dict[sampled_token_index]\n",
    "          decoded_sentence += \" \" + sampled_token\n",
    "          \n",
    "          #Stop if hit max length or found the stop token\n",
    "          if (sampled_token == '<END>' or len(decoded_sentence) > max_decoder_seq_length):\n",
    "            stop_condition = True\n",
    "          \n",
    "          #Update the target sequence\n",
    "          target_seq = np.zeros((1, 1, num_decoder_tokens))\n",
    "          target_seq[0, 0, sampled_token_index] = 1.\n",
    "          \n",
    "          #Update states\n",
    "          states_value = [hidden_state, cell_state]\n",
    "    return decoded_sentence"
   ]
  },
  {
   "cell_type": "markdown",
   "metadata": {},
   "source": [
    "## KPAIR-Trained DEEP LSTM CLASS CONVO"
   ]
  },
  {
   "cell_type": "code",
   "execution_count": null,
   "metadata": {
    "id": "W_haf70rOeUf"
   },
   "outputs": [],
   "source": [
    "class ChatBot:\n",
    "  negative_responses = (\"no\", \"nope\", \"nah\", \"naw\", \"not a chance\", \"sorry\")\n",
    "  exit_commands = (\"quit\", \"pause\", \"exit\", \"goodbye\", \"bye\", \"later\", \"stop\")\n",
    "  \n",
    "  #Method to start the conversation\n",
    "  def start_chat(self):\n",
    "    user_response = input(\"Hi, I'm a chatbot trained on random dialogs. AMA!\\n\")\n",
    "    \n",
    "    if user_response in self.negative_responses:\n",
    "      print(\"Ok, have a great day!\")\n",
    "      return\n",
    "    self.chat(user_response)\n",
    "  \n",
    "  #Method to handle the conversation\n",
    "  def chat(self, reply):\n",
    "    while not self.make_exit(reply):\n",
    "      reply = input(self.generate_response(reply)+\"\\n\")\n",
    "    \n",
    "  #Method to convert user input into a matrix\n",
    "  def string_to_matrix(self, user_input):\n",
    "    tokens = re.findall(r\"[\\w']+|[^\\s\\w]\", user_input)\n",
    "    user_input_matrix = np.zeros(\n",
    "      (1, max_encoder_seq_length, num_encoder_tokens),\n",
    "      dtype='float32')\n",
    "    for timestep, token in enumerate(tokens):\n",
    "      if token in input_features_dict:\n",
    "        user_input_matrix[0, timestep, input_features_dict[token]] = 1.\n",
    "    return user_input_matrix\n",
    "  \n",
    "  #Method that will create a response using seq2seq model we built\n",
    "  def generate_response(self, user_input):\n",
    "    input_matrix = self.string_to_matrix(user_input)\n",
    "    chatbot_response = decode_response(input_matrix)\n",
    "    #Remove <START> and <END> tokens from chatbot_response\n",
    "    chatbot_response = chatbot_response.replace(\"<START>\",'')\n",
    "    chatbot_response = chatbot_response.replace(\"<END>\",'')\n",
    "    return chatbot_response\n",
    "  \n",
    "  #Method to check for exit commands\n",
    "  def make_exit(self, reply):\n",
    "    for exit_command in self.exit_commands:\n",
    "      if exit_command in reply:\n",
    "        print(\"Ok, have a great day!\")\n",
    "        return True\n",
    "    return False\n",
    "  \n",
    "chatbot = ChatBot()"
   ]
  },
  {
   "cell_type": "markdown",
   "metadata": {
    "id": "Ex0L82Zh4nC1"
   },
   "source": [
    "## Demo"
   ]
  },
  {
   "cell_type": "code",
   "execution_count": null,
   "metadata": {
    "colab": {
     "base_uri": "https://localhost:8080/"
    },
    "id": "ORcESPLnr2gS",
    "outputId": "802286d4-7228-4091-f91b-2c9f2f790b15"
   },
   "outputs": [],
   "source": [
    "chatbot.start_chat()"
   ]
  }
 ],
 "metadata": {
  "accelerator": "GPU",
  "colab": {
   "collapsed_sections": [],
   "name": "Generative based",
   "provenance": []
  },
  "kernelspec": {
   "display_name": "Python 3 (ipykernel)",
   "language": "python",
   "name": "python3"
  },
  "language_info": {
   "codemirror_mode": {
    "name": "ipython",
    "version": 3
   },
   "file_extension": ".py",
   "mimetype": "text/x-python",
   "name": "python",
   "nbconvert_exporter": "python",
   "pygments_lexer": "ipython3",
   "version": "3.10.9"
  }
 },
 "nbformat": 4,
 "nbformat_minor": 1
}
